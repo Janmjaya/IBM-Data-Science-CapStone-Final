
# coding: utf-8

# In[81]:


import pandas as pd


# In[82]:


data = pd.read_html("https://en.wikipedia.org/wiki/List_of_postal_codes_of_Canada:_M")


# In[83]:


table = data[0]


# In[84]:


table


# In[85]:


table.columns = table.iloc[0]
table = table[1:]
table


# In[87]:


table = table[(table[['Borough','Neighbourhood' ]]!= 'Not assigned').all(axis=1)].reset_index() 
table


# In[90]:


table1 = table.drop(['index','level_0'],axis=1)
table1


# In[91]:


table2 = table1.groupby(['Postcode','Borough'])['Neighbourhood'].apply(', '.join).reset_index()
table2


# In[93]:


table2.shape

